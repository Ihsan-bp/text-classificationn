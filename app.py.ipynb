{
 "cells": [
  {
   "cell_type": "code",
   "execution_count": 2,
   "id": "627808b8",
   "metadata": {},
   "outputs": [
    {
     "name": "stdout",
     "output_type": "stream",
     "text": [
      "Requirement already satisfied: Flask in c:\\users\\ihsan b p\\anaconda3\\lib\\site-packages (1.1.2)"
     ]
    },
    {
     "name": "stderr",
     "output_type": "stream",
     "text": [
      "WARNING: Ignoring invalid distribution -etuptools (c:\\users\\ihsan b p\\anaconda3\\lib\\site-packages)\n",
      "WARNING: Ignoring invalid distribution -etuptools (c:\\users\\ihsan b p\\anaconda3\\lib\\site-packages)\n",
      "WARNING: Ignoring invalid distribution -etuptools (c:\\users\\ihsan b p\\anaconda3\\lib\\site-packages)\n",
      "WARNING: Ignoring invalid distribution -etuptools (c:\\users\\ihsan b p\\anaconda3\\lib\\site-packages)\n",
      "WARNING: Ignoring invalid distribution -etuptools (c:\\users\\ihsan b p\\anaconda3\\lib\\site-packages)\n",
      "WARNING: Ignoring invalid distribution -etuptools (c:\\users\\ihsan b p\\anaconda3\\lib\\site-packages)\n",
      "\n",
      "[notice] A new release of pip is available: 23.0.1 -> 23.3.1\n",
      "[notice] To update, run: python.exe -m pip install --upgrade pip\n"
     ]
    },
    {
     "name": "stdout",
     "output_type": "stream",
     "text": [
      "\n",
      "Requirement already satisfied: itsdangerous>=0.24 in c:\\users\\ihsan b p\\anaconda3\\lib\\site-packages (from Flask) (2.0.1)\n",
      "Requirement already satisfied: click>=5.1 in c:\\users\\ihsan b p\\anaconda3\\lib\\site-packages (from Flask) (8.0.4)\n",
      "Requirement already satisfied: Werkzeug>=0.15 in c:\\users\\ihsan b p\\anaconda3\\lib\\site-packages (from Flask) (2.0.3)\n",
      "Requirement already satisfied: Jinja2>=2.10.1 in c:\\users\\ihsan b p\\anaconda3\\lib\\site-packages (from Flask) (2.11.3)\n",
      "Requirement already satisfied: colorama in c:\\users\\ihsan b p\\anaconda3\\lib\\site-packages (from click>=5.1->Flask) (0.4.6)\n",
      "Requirement already satisfied: MarkupSafe>=0.23 in c:\\users\\ihsan b p\\anaconda3\\lib\\site-packages (from Jinja2>=2.10.1->Flask) (2.0.1)\n"
     ]
    }
   ],
   "source": [
    "!pip install Flask"
   ]
  },
  {
   "cell_type": "code",
   "execution_count": 11,
   "id": "6cfe0d4d",
   "metadata": {},
   "outputs": [],
   "source": [
    "from flask import Flask, request, jsonify\n",
    "import joblib\n",
    "import nltk\n",
    "from nltk.corpus import stopwords\n",
    "from nltk.stem import PorterStemmer\n",
    "from sklearn.feature_extraction.text import CountVectorizer\n",
    "from flask import Flask, request, jsonify\n",
    "\n",
    "# Load the pre-trained model and vectorizer\n",
    "rfcl_model = joblib.load(\"my_model.pkl\")\n",
    "cvector = joblib.load(\"my_vectorizer\")\n",
    "\n",
    "app = Flask(__name__)"
   ]
  },
  {
   "cell_type": "code",
   "execution_count": 12,
   "id": "c9ebc405",
   "metadata": {},
   "outputs": [],
   "source": [
    "@app.route('/predict', methods=['POST'])\n",
    "def predict():\n",
    "    try:\n",
    "        # Get the text input from the request\n",
    "        user_text = request.json['text']\n",
    "\n",
    "        # Vectorize the text\n",
    "        text_vectorized = vectorizer.transform([user_text]).toarray()\n",
    "\n",
    "        # Make predictions using the model\n",
    "        prediction = model.predict(text_vectorized)\n",
    "\n",
    "        # Return the prediction as JSON\n",
    "        return jsonify({'emotion': int(prediction[0])})\n",
    "    except Exception as e:\n",
    "        return jsonify({'error': str(e)})\n"
   ]
  },
  {
   "cell_type": "code",
   "execution_count": null,
   "id": "cb4c6836",
   "metadata": {},
   "outputs": [],
   "source": [
    "if __name__ == '__main__':\n",
    "    app.run(debug=True)\n"
   ]
  },
  {
   "cell_type": "code",
   "execution_count": null,
   "id": "931f534a",
   "metadata": {},
   "outputs": [],
   "source": []
  },
  {
   "cell_type": "code",
   "execution_count": null,
   "id": "bacc546e",
   "metadata": {},
   "outputs": [],
   "source": []
  }
 ],
 "metadata": {
  "kernelspec": {
   "display_name": "Python 3 (ipykernel)",
   "language": "python",
   "name": "python3"
  },
  "language_info": {
   "codemirror_mode": {
    "name": "ipython",
    "version": 3
   },
   "file_extension": ".py",
   "mimetype": "text/x-python",
   "name": "python",
   "nbconvert_exporter": "python",
   "pygments_lexer": "ipython3",
   "version": "3.9.12"
  }
 },
 "nbformat": 4,
 "nbformat_minor": 5
}
